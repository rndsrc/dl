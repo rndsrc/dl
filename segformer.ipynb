{
 "cells": [
  {
   "cell_type": "markdown",
   "id": "abbfd0e3-ec33-49b2-be17-35884f85a281",
   "metadata": {},
   "source": [
    "# Tuning a Semantic Segmentation Transformers\n",
    "\n",
    "We have now learned the power of the transformer architecture.\n",
    "One of its applications is to perform semantic segmentation---\n",
    "a computer vision task for associating each pixel in an image into a class or object.\n",
    "\n",
    "Althgouh training a full transformer from scratch can be expensive, it is relatively easy to \"tune\" a pre-trained transformer to different types of data.\n",
    "In this hands-on, we will use an [`implementation`](https://github.com/huggingface/transformers) of [SegFormer](https://arxiv.org/pdf/2105.15203.pdf) by [hugging face](https://huggingface.co/)."
   ]
  },
  {
   "cell_type": "markdown",
   "id": "057e4bac-9f0f-4d87-9e4e-7a79ad0917ec",
   "metadata": {},
   "source": [
    "## Pre-trained Model\n",
    "\n",
    "To run this hands-on with reasonable resources, we will use the [`MiT-b0`](https://huggingface.co/nvidia/mit-b0) variant of the SegFormer, \n",
    "which has only [3.7M parameters](https://huggingface.co/docs/transformers/en/model_doc/segformer).\n",
    "Following the documentation, we can use it by the following steps.\n",
    "\n",
    "**Step 1a.** Load the necessary python packages."
   ]
  },
  {
   "cell_type": "code",
   "execution_count": 1,
   "id": "9f6dc9c5-fd01-48da-817b-826541f3efbc",
   "metadata": {},
   "outputs": [],
   "source": [
    "import requests       # for download image\n",
    "from PIL import Image # for reading image\n",
    "from transformers import SegformerImageProcessor, SegformerForImageClassification"
   ]
  },
  {
   "cell_type": "markdown",
   "id": "46a8cf1c-a716-4a48-bbd8-0c4d68bae273",
   "metadata": {},
   "source": [
    "**Step 1b.** Download a sample image and read it as a Pillow image."
   ]
  },
  {
   "cell_type": "code",
   "execution_count": 2,
   "id": "2a4bd084-65d2-49ec-82ff-bdbb2475e49b",
   "metadata": {},
   "outputs": [],
   "source": [
    "url = \"http://images.cocodataset.org/val2017/000000039769.jpg\"\n",
    "img = Image.open(requests.get(url, stream=True).raw)"
   ]
  },
  {
   "cell_type": "markdown",
   "id": "6428d151-307b-42cd-a249-af490f82ea5d",
   "metadata": {},
   "source": [
    "**Step 1c.** Download the pre-trained model and construct the image processor and classifier."
   ]
  },
  {
   "cell_type": "code",
   "execution_count": 3,
   "id": "995b71c5-7a96-4214-a486-49d1324df26a",
   "metadata": {},
   "outputs": [
    {
     "name": "stderr",
     "output_type": "stream",
     "text": [
      "/Users/ckc/.venv/dl/lib/python3.12/site-packages/transformers/models/segformer/image_processing_segformer.py:102: FutureWarning: The `reduce_labels` parameter is deprecated and will be removed in a future version. Please use `do_reduce_labels` instead.\n",
      "  warnings.warn(\n"
     ]
    }
   ],
   "source": [
    "impro = SegformerImageProcessor.from_pretrained(\"nvidia/mit-b0\")\n",
    "model = SegformerForImageClassification.from_pretrained(\"nvidia/mit-b0\")"
   ]
  },
  {
   "cell_type": "markdown",
   "id": "a1370d24-136f-43fe-a568-7b7a35977cab",
   "metadata": {},
   "source": [
    "**Step 1d.** Process the input image and run it through the model. "
   ]
  },
  {
   "cell_type": "code",
   "execution_count": 4,
   "id": "02d5c284-2e35-4a49-b029-0d790707d2d7",
   "metadata": {},
   "outputs": [],
   "source": [
    "inputs  = impro(images=img, return_tensors=\"pt\")\n",
    "outputs = model(**inputs)"
   ]
  },
  {
   "cell_type": "markdown",
   "id": "3de97e3b-d779-48df-acd3-9f30e94399b9",
   "metadata": {},
   "source": [
    "**Step 1e.** Obtain and print the predicted class---the model predicts one of the 1000 ImageNet classes"
   ]
  },
  {
   "cell_type": "code",
   "execution_count": 5,
   "id": "b035bc77-5064-4aa3-af96-1106e6ca4241",
   "metadata": {},
   "outputs": [
    {
     "name": "stdout",
     "output_type": "stream",
     "text": [
      "Predicted class: tabby, tabby cat\n"
     ]
    }
   ],
   "source": [
    "logits  = outputs.logits\n",
    "predicted_idx = logits.argmax(-1).item()\n",
    "print(\"Predicted class:\", model.config.id2label[predicted_idx])"
   ]
  },
  {
   "cell_type": "code",
   "execution_count": null,
   "id": "cf1b1bdc-f882-4906-abd4-427f5d3707ce",
   "metadata": {},
   "outputs": [],
   "source": []
  }
 ],
 "metadata": {
  "kernelspec": {
   "display_name": "Python 3 (ipykernel)",
   "language": "python",
   "name": "python3"
  },
  "language_info": {
   "codemirror_mode": {
    "name": "ipython",
    "version": 3
   },
   "file_extension": ".py",
   "mimetype": "text/x-python",
   "name": "python",
   "nbconvert_exporter": "python",
   "pygments_lexer": "ipython3",
   "version": "3.12.2"
  }
 },
 "nbformat": 4,
 "nbformat_minor": 5
}
