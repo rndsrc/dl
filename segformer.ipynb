{
 "cells": [
  {
   "cell_type": "markdown",
   "id": "abbfd0e3-ec33-49b2-be17-35884f85a281",
   "metadata": {},
   "source": [
    "# Tuning a Semantic Segmentation Transformers\n",
    "\n",
    "We have now learned the power of the transformer architecture.\n",
    "One of its applications is to perform semantic segmentation.\n",
    "\n",
    "Althgouh training a full transformer from scratch can be expensive, it is relatively easy to \"tune\" a pre-trained transformer to different types of data."
   ]
  }
 ],
 "metadata": {
  "kernelspec": {
   "display_name": "Python 3 (ipykernel)",
   "language": "python",
   "name": "python3"
  },
  "language_info": {
   "codemirror_mode": {
    "name": "ipython",
    "version": 3
   },
   "file_extension": ".py",
   "mimetype": "text/x-python",
   "name": "python",
   "nbconvert_exporter": "python",
   "pygments_lexer": "ipython3",
   "version": "3.12.2"
  }
 },
 "nbformat": 4,
 "nbformat_minor": 5
}
