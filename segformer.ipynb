{
 "cells": [
  {
   "cell_type": "markdown",
   "id": "abbfd0e3-ec33-49b2-be17-35884f85a281",
   "metadata": {},
   "source": [
    "# Tuning a Semantic Segmentation Transformers\n",
    "\n",
    "We have now learned the power of the transformer architecture.\n",
    "One of its applications is to perform semantic segmentation---\n",
    "a computer vision task for associating each pixel in an image into a class or object.\n",
    "\n",
    "Althgouh training a full transformer from scratch can be expensive, it is relatively easy to \"tune\" a pre-trained transformer to different types of data.\n",
    "In this hands-on, we will use an [`implementation`](https://github.com/huggingface/transformers) of [SegFormer](https://arxiv.org/pdf/2105.15203.pdf) by [hugging face](https://huggingface.co/)."
   ]
  },
  {
   "cell_type": "markdown",
   "id": "057e4bac-9f0f-4d87-9e4e-7a79ad0917ec",
   "metadata": {},
   "source": [
    "## Pre-trained Model\n",
    "\n",
    "To run this hands-on with reasonable resources, we will use the [`MiT-b0`](https://huggingface.co/nvidia/mit-b0) variant of the SegFormer, \n",
    "which has only [3.7M parameters](https://huggingface.co/docs/transformers/en/model_doc/segformer).\n",
    "Following the documentation, we can use it by the following steps.\n",
    "\n",
    "**Step 1a.** Load the necessary python packages."
   ]
  },
  {
   "cell_type": "code",
   "execution_count": 1,
   "id": "9f6dc9c5-fd01-48da-817b-826541f3efbc",
   "metadata": {},
   "outputs": [],
   "source": [
    "import requests       # for download image\n",
    "from PIL import Image # for reading image\n",
    "from transformers import SegformerImageProcessor, SegformerForImageClassification"
   ]
  },
  {
   "cell_type": "markdown",
   "id": "46a8cf1c-a716-4a48-bbd8-0c4d68bae273",
   "metadata": {},
   "source": [
    "**Step 1b.** Download a sample image and read it as a Pillow image."
   ]
  },
  {
   "cell_type": "code",
   "execution_count": 2,
   "id": "2a4bd084-65d2-49ec-82ff-bdbb2475e49b",
   "metadata": {},
   "outputs": [],
   "source": [
    "url = \"http://images.cocodataset.org/val2017/000000039769.jpg\"\n",
    "img = Image.open(requests.get(url, stream=True).raw)"
   ]
  },
  {
   "cell_type": "markdown",
   "id": "6428d151-307b-42cd-a249-af490f82ea5d",
   "metadata": {},
   "source": [
    "**Step 1c.** Download the pre-trained model and construct the image processor and classifier."
   ]
  },
  {
   "cell_type": "code",
   "execution_count": 3,
   "id": "995b71c5-7a96-4214-a486-49d1324df26a",
   "metadata": {},
   "outputs": [
    {
     "name": "stderr",
     "output_type": "stream",
     "text": [
      "/Users/ckc/.venv/dl/lib/python3.12/site-packages/transformers/models/segformer/image_processing_segformer.py:102: FutureWarning: The `reduce_labels` parameter is deprecated and will be removed in a future version. Please use `do_reduce_labels` instead.\n",
      "  warnings.warn(\n"
     ]
    }
   ],
   "source": [
    "impro = SegformerImageProcessor.from_pretrained(\"nvidia/mit-b0\")\n",
    "model = SegformerForImageClassification.from_pretrained(\"nvidia/mit-b0\")"
   ]
  },
  {
   "cell_type": "markdown",
   "id": "a1370d24-136f-43fe-a568-7b7a35977cab",
   "metadata": {},
   "source": [
    "**Step 1d.** Process the input image and run it through the model. "
   ]
  },
  {
   "cell_type": "code",
   "execution_count": 4,
   "id": "02d5c284-2e35-4a49-b029-0d790707d2d7",
   "metadata": {},
   "outputs": [],
   "source": [
    "inputs  = impro(images=img, return_tensors=\"pt\")\n",
    "outputs = model(**inputs)"
   ]
  },
  {
   "cell_type": "markdown",
   "id": "3de97e3b-d779-48df-acd3-9f30e94399b9",
   "metadata": {},
   "source": [
    "**Step 1e.** Obtain and print the predicted class---the model predicts one of the 1000 ImageNet classes"
   ]
  },
  {
   "cell_type": "code",
   "execution_count": 5,
   "id": "b035bc77-5064-4aa3-af96-1106e6ca4241",
   "metadata": {},
   "outputs": [
    {
     "name": "stdout",
     "output_type": "stream",
     "text": [
      "Predicted class: tabby, tabby cat\n"
     ]
    }
   ],
   "source": [
    "logits  = outputs.logits\n",
    "predicted_idx = logits.argmax(-1).item()\n",
    "print(\"Predicted class:\", model.config.id2label[predicted_idx])"
   ]
  },
  {
   "cell_type": "markdown",
   "id": "f7b69252-d831-4854-852b-c2752e462a82",
   "metadata": {},
   "source": [
    "**Exercise 1f.** Try to run the `MiT-b0` on a different image, maybe an astronomical image?\n",
    "Does `MiT-b0` returns a good label?\n",
    "If not, why?\n",
    "\n",
    "*Hint:* what classes are in ImageNet?"
   ]
  },
  {
   "cell_type": "code",
   "execution_count": null,
   "id": "e1f93027-3ade-4464-8001-1d4b939d896d",
   "metadata": {},
   "outputs": [],
   "source": []
  },
  {
   "cell_type": "markdown",
   "id": "74a39e0f-a3d2-4554-a3e6-bd4c95c8e199",
   "metadata": {},
   "source": [
    "## Semantic Segmentation\n",
    "\n",
    "However, `SegFormer` was designed for semantic segmentation (as the [title of the paper](https://arxiv.org/abs/2105.15203) suggested).\n",
    "Let's use `MiT-b0` as a semantic segmentation model.\n",
    "\n",
    "**Step 2a.** Load the necessary python packages."
   ]
  },
  {
   "cell_type": "code",
   "execution_count": null,
   "id": "32e7e221-06a5-4135-88ce-9f48b5601dc8",
   "metadata": {},
   "outputs": [],
   "source": [
    "import numpy as np\n",
    "from matplotlib   import pyplot as plt\n",
    "from transformers import SegformerForSemanticSegmentation"
   ]
  },
  {
   "cell_type": "markdown",
   "id": "a9f46e33-0952-4421-9eb5-399c13cca09c",
   "metadata": {},
   "source": [
    "**Step 2b.** Download the pre-trained model and construct the semantic segmentation model.\n",
    "\n",
    "Note that there is a warning saying some weights were not initialized.\n",
    "This is expected.\n",
    "`SegFormer` consists of a hierarchical Transformer encoder and a lightweight all-Multilayer Perceptron (MLP) decode head.\n",
    "The hierarchical Transformer is first pre-trained on ImageNet-1k, after which a decode head is added and fine-tuned altogether on a downstream dataset.\n",
    "This hugging face repository only contains the pre-trained hierarchical Transformer, hence it can be used for fine-tuning purposes."
   ]
  },
  {
   "cell_type": "code",
   "execution_count": null,
   "id": "6d001464-afbf-4fa4-95ca-8acfc014ac28",
   "metadata": {},
   "outputs": [],
   "source": [
    "model = SegformerForSemanticSegmentation.from_pretrained(\"nvidia/mit-b0\")"
   ]
  },
  {
   "cell_type": "markdown",
   "id": "828b9bdb-91ec-4d28-a6b0-9782920c2e48",
   "metadata": {},
   "source": [
    "**Step 2c.** But as a demo, let's apply it to our image anyway."
   ]
  },
  {
   "cell_type": "code",
   "execution_count": null,
   "id": "48d840fa-6d0e-46be-b2c0-f612e0783d89",
   "metadata": {},
   "outputs": [],
   "source": [
    "outputs = model(**inputs)"
   ]
  },
  {
   "cell_type": "markdown",
   "id": "df4ebb33-1d08-4db6-8dbd-ea444a225dc4",
   "metadata": {},
   "source": [
    "**Step 2d.** The output of `SegFormer` is effectively an array containing an id for each pixel of the origin image."
   ]
  },
  {
   "cell_type": "code",
   "execution_count": null,
   "id": "60e2df4e-ac58-449e-805d-568f9b03ae45",
   "metadata": {},
   "outputs": [],
   "source": [
    "segmap = impro.post_process_semantic_segmentation(outputs, target_sizes=[img.size[::-1]])[0].cpu().numpy()\n",
    "display(segmap)"
   ]
  },
  {
   "cell_type": "markdown",
   "id": "3d5a8652-dd80-4f8b-8c36-47c506074af3",
   "metadata": {},
   "source": [
    "**Step 3e.** We can overlay the segmentation map over the original image.\n",
    "As we can see here, without tuning to down-stream data, `MiT-b0` can't really pull out objects from the image."
   ]
  },
  {
   "cell_type": "code",
   "execution_count": null,
   "id": "bb15d09f-3f3d-49b5-8062-595d438f9bac",
   "metadata": {},
   "outputs": [],
   "source": [
    "def getpalette(url=\"https://raw.githubusercontent.com/rndsrc/dl/main/ade_palette.txt\"):\n",
    "    s = requests.get(url).text\n",
    "    a = np.fromstring(s, dtype=np.uint8, sep=' ')\n",
    "    return a.reshape(-1,3)\n",
    "\n",
    "palette = getpalette()"
   ]
  },
  {
   "cell_type": "code",
   "execution_count": null,
   "id": "2b70d9a9-ea41-40da-b8ac-25770a195a3b",
   "metadata": {},
   "outputs": [],
   "source": [
    "def segshow(img, mask, palette=palette, alpha=0.5, ax=None):\n",
    "    segcolor = np.zeros(mask.shape + (3,), dtype=np.uint8)\n",
    "    for l, c in enumerate(palette):\n",
    "        segcolor[mask==l, :] = c\n",
    "    overlay = ((1-alpha)*np.array(img) + alpha*segcolor).astype(np.uint8)\n",
    "\n",
    "    if ax is None:\n",
    "        plt.imshow(overlay)\n",
    "    else:\n",
    "        ax.imshow(overlay)\n",
    "\n",
    "segshow(img, segmap)"
   ]
  },
  {
   "cell_type": "markdown",
   "id": "055af509-23d8-4cb4-93dd-ad4a956aba97",
   "metadata": {},
   "source": [
    "**Exercise 2f.** Try to rerun the above cells, do you get the same segmentation?  Why?"
   ]
  },
  {
   "cell_type": "markdown",
   "id": "af7d0c2c-26fa-4f8f-8822-ba9709de4260",
   "metadata": {},
   "source": [
    "## Tuning `SegFormer`"
   ]
  },
  {
   "cell_type": "code",
   "execution_count": null,
   "id": "819dc085-1851-462c-bcdc-0b5d96670935",
   "metadata": {},
   "outputs": [],
   "source": [
    "from torch.utils.data import Dataset\n",
    "from astropy.io import fits"
   ]
  },
  {
   "cell_type": "code",
   "execution_count": null,
   "id": "e7b5dd01-7761-4be7-bfe7-917b6ebc0561",
   "metadata": {},
   "outputs": [],
   "source": [
    "def normalize(a):\n",
    "    a -= np.min(a)\n",
    "    a *= 255 / np.max(a)\n",
    "    return a.astype(np.uint8)\n",
    "\n",
    "with fits.open(\"sample10/imagedata_1-118820.fits\") as hdul:\n",
    "    img = np.moveaxis(np.array([\n",
    "        normalize(hdul[0].data),\n",
    "        normalize(hdul[1].data),\n",
    "        normalize(hdul[2].data),\n",
    "    ]), 0, -1)\n",
    "\n",
    "with fits.open(\"sample10/mask_1-118820.fits\") as hdul:\n",
    "    mask = np.array(hdul[0].data).astype(np.uint8)\n",
    "\n",
    "fig, axes = plt.subplots(1,3, figsize=(12,4))\n",
    "axes[0].imshow(img)\n",
    "axes[1].imshow(mask)\n",
    "segshow(img, mask, ax=axes[2])"
   ]
  }
 ],
 "metadata": {
  "kernelspec": {
   "display_name": "Python 3 (ipykernel)",
   "language": "python",
   "name": "python3"
  },
  "language_info": {
   "codemirror_mode": {
    "name": "ipython",
    "version": 3
   },
   "file_extension": ".py",
   "mimetype": "text/x-python",
   "name": "python",
   "nbconvert_exporter": "python",
   "pygments_lexer": "ipython3",
   "version": "3.12.2"
  }
 },
 "nbformat": 4,
 "nbformat_minor": 5
}
